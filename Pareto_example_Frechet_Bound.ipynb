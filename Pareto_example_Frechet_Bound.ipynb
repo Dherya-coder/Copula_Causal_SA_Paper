{
 "cells": [
  {
   "cell_type": "code",
   "execution_count": 1,
   "metadata": {},
   "outputs": [],
   "source": [
    "import numpy as np\n",
    "from scipy.integrate import quad\n",
    "def erf_asy(x):\n",
    "    a1, a2, a3, a4, a5 = 0.254829592, -0.284496736, 1.421413741, -1.453152027, 1.061405429\n",
    "    p = 0.3275911\n",
    "    sign = np.sign(x)\n",
    "    x = np.abs(x)\n",
    "    t = 1 / (1 + p * x)\n",
    "    y = 1 - (((((a5 * t + a4) * t + a3) * t + a2) * t + a1) * t * np.exp(-x * x))\n",
    "    return sign * y\n",
    "\n",
    "\n",
    "def phi(x):\n",
    "    return 0.5 * (1 + np.erf(x / np.sqrt(2)))\n",
    "\n",
    "from scipy.special import erfinv\n",
    "\n",
    "def phi_inv(p):\n",
    "    return np.sqrt(2) * erfinv(2*p - 1)            \n",
    "\n",
    "\n",
    "def my_integrand(z, rho, A):\n",
    "    den = np.sqrt(2*(1 - rho**2)) + 1e-8  # avoid zero divide\n",
    "    temp = (A - np.sqrt(2)*rho*z) / den\n",
    "    return np.exp(-z**2) * erf_asy(temp)\n",
    "\n",
    "def Integrat_quad(a, b, rho, A):\n",
    "    f = lambda z: my_integrand(z, rho, A)\n",
    "    val ,error= quad(f, a, b,limit=10000)\n",
    "    return val\n",
    "\n",
    "\n",
    "def f1(x):\n",
    "    return np.exp(-x**2)*erf_asy((A-rho*x*np.sqrt(2))/np.sqrt(2*(1-rho**2)))\n",
    "\n",
    "\n",
    "# print(erf_asy(0))"
   ]
  },
  {
   "cell_type": "code",
   "execution_count": 2,
   "metadata": {},
   "outputs": [],
   "source": [
    "from scipy.stats import norm\n",
    "y = 10\n",
    "scale0, scale1 = 6, 9#xm parameter\n",
    "shape0, shape1 = 5, 5#tail(alpha) parameter\n",
    "\n",
    "def F_Y1(y,scale1,shape1):\n",
    "    temp=(scale1/y)**shape1\n",
    "    return 1-temp\n",
    "\n",
    "def F_Y0(y,scale0,shape0):\n",
    "    temp=(scale0/y)**shape0\n",
    "    return 1-temp\n",
    "\n",
    "\n",
    "\n",
    "\n",
    "\n",
    "def PNS_FB(y):\n",
    "    u0 = F_Y0(y,scale0,shape0)\n",
    "    u1 = F_Y1(y,scale1,shape1)\n",
    "    lb=max(u0-u1,0)\n",
    "    ub=min(u0,1-u1)\n",
    "    return np.array([lb,ub])\n",
    "\n",
    "\n",
    "\n",
    "def PS_FB(y):\n",
    "    u0 = F_Y0(y,scale0,shape0)\n",
    "    u1 = F_Y1(y,scale1,shape1)\n",
    "    lb=max(u0-u1,0)/u0\n",
    "    ub=min(u0,1-u1)/u0\n",
    "    return np.array([lb,ub])\n",
    "def PN_FB(y):\n",
    "    u0 = F_Y0(y,scale0,shape0)\n",
    "    u1 = F_Y1(y,scale1,shape1)\n",
    "    lb=max(u0-u1,0)/(1-u1)\n",
    "    ub=min(u0,1-u1)/(1-u1)\n",
    "    return np.array([lb,ub])\n",
    "\n"
   ]
  },
  {
   "cell_type": "code",
   "execution_count": 3,
   "metadata": {},
   "outputs": [
    {
     "name": "stdout",
     "output_type": "stream",
     "text": [
      "[0.51273 0.59049]\n",
      "[0.86831276 1.        ]\n",
      "[0.55596157 0.64027802]\n"
     ]
    }
   ],
   "source": [
    "\n",
    "print(PNS_FB(y))\n",
    "print(PN_FB(y))\n",
    "print(PS_FB(y))"
   ]
  },
  {
   "cell_type": "code",
   "execution_count": null,
   "metadata": {},
   "outputs": [],
   "source": []
  }
 ],
 "metadata": {
  "kernelspec": {
   "display_name": "Python 3",
   "language": "python",
   "name": "python3"
  },
  "language_info": {
   "codemirror_mode": {
    "name": "ipython",
    "version": 3
   },
   "file_extension": ".py",
   "mimetype": "text/x-python",
   "name": "python",
   "nbconvert_exporter": "python",
   "pygments_lexer": "ipython3",
   "version": "3.10.12"
  },
  "orig_nbformat": 4
 },
 "nbformat": 4,
 "nbformat_minor": 2
}
