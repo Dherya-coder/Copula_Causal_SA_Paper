{
 "cells": [
  {
   "cell_type": "code",
   "execution_count": 1,
   "metadata": {},
   "outputs": [],
   "source": [
    "import numpy as np\n",
    "from scipy.integrate import quad\n",
    "def erf_asy(x):\n",
    "    a1, a2, a3, a4, a5 = 0.254829592, -0.284496736, 1.421413741, -1.453152027, 1.061405429\n",
    "    p = 0.3275911\n",
    "    sign = np.sign(x) \n",
    "    x = np.abs(x)\n",
    "    t = 1 / (1 + p * x)\n",
    "    y = 1 - (((((a5 * t + a4) * t + a3) * t + a2) * t + a1) * t * np.exp(-x * x))\n",
    "    return sign * y\n",
    "\n",
    "\n",
    "\n",
    "import numpy as np\n",
    "\n",
    "def phi(x):\n",
    "    return 0.5 * (1 + np.erf(x / np.sqrt(2)))\n",
    "\n",
    "from scipy.special import erfinv\n",
    "\n",
    "def phi_inv(p):\n",
    "    return np.sqrt(2) * erfinv(2*p - 1)\n",
    "\n",
    "\n",
    "def my_integrand(z, rho, A):\n",
    "    den = np.sqrt(2*(1 - rho**2)) + 1e-8  # avoid zero divide\n",
    "    temp = (A - np.sqrt(2)*rho*z) / den\n",
    "    return np.exp(-z**2) * erf_asy(temp)\n",
    "\n",
    "def Integrat_quad(a, b, rho, A):\n",
    "    f = lambda z: my_integrand(z, rho, A)\n",
    "    val ,error= quad(f, a, b,limit=10000)\n",
    "    return val\n",
    "\n",
    "\n",
    "def f1(x):\n",
    "    return np.exp(-x**2)*erf_asy((A-rho*x*np.sqrt(2))/np.sqrt(2*(1-rho**2)))\n",
    "\n",
    "\n",
    "# print(erf_asy(0))"
   ]
  },
  {
   "cell_type": "code",
   "execution_count": 2,
   "metadata": {},
   "outputs": [
    {
     "data": {
      "text/plain": [
       "(110, 4)"
      ]
     },
     "execution_count": 2,
     "metadata": {},
     "output_type": "execute_result"
    }
   ],
   "source": [
    "#Bootstrapping\n",
    "import pandas as pd\n",
    "\n",
    "df=pd.read_csv('/home/dherya.malhotra/Carpe_DM/PAPER_CODES/MBZUAI_POC_PAPER_DATA - Sheet1.csv')\n",
    "df=df[df['Stock market return (%, year-on-year)(Y)']!=0]\n",
    "df = df[df['Oil Export Price (X)($/Barrel)'].notna()]\n",
    "A=df[[\"Oil Export Price (X)($/Barrel)\",\"Stock market return (%, year-on-year)(Y)\",\"GDP per Capita (Constant 2015 US$)(Z)\",\"Political Risk Index(Z)($)\"]]\n",
    "A.shape\n",
    "\n",
    "\n"
   ]
  },
  {
   "cell_type": "code",
   "execution_count": 3,
   "metadata": {},
   "outputs": [],
   "source": [
    "\n",
    "def Bootstrap(A):\n",
    "    r=A.shape[0]\n",
    "    c=A.shape[1]\n",
    "    ans=pd.DataFrame(columns=A.columns)\n",
    "    for i in range(r):\n",
    "        temp=np.random.randint(0,r)\n",
    "        ans.loc[len(ans)]=A.iloc[temp]\n",
    "    return ans"
   ]
  },
  {
   "cell_type": "code",
   "execution_count": 4,
   "metadata": {},
   "outputs": [],
   "source": [
    "from sklearn.linear_model import LogisticRegression\n",
    "from scipy.stats import norm\n",
    "\n",
    "\n",
    "from scipy.integrate import quad\n",
    "\n",
    "def Frechet_Bound_PNS_PN_PS(A,iter,alpha,y,x,x_):\n",
    "    PNS_lower_bound=[]\n",
    "    PNS_upper_bound=[]\n",
    "    PN_lower_bound=[]\n",
    "    PN_upper_bound=[]\n",
    "    PS_lower_bound=[]\n",
    "    PS_upper_bound=[]\n",
    "    for i in range(iter):\n",
    "        B=Bootstrap(A)\n",
    "        II_y = (B['Stock market return (%, year-on-year)(Y)'] < y).astype(int)\n",
    "        X = np.array(B['Oil Export Price (X)($/Barrel)']).reshape(-1, 1)\n",
    "        C1 = np.array(B['GDP per Capita (Constant 2015 US$)(Z)']).reshape(-1, 1)\n",
    "        C2 = np.array(B['Political Risk Index(Z)($)']).reshape(-1, 1)\n",
    "        clf = LogisticRegression(max_iter=500)\n",
    "        clf.fit(np.hstack([X, C1, C2]), II_y)\n",
    "        X0_input = np.hstack([np.ones_like(C1)*x, C1, C2])\n",
    "        X1_input = np.hstack([np.ones_like(C1)*x_, C1, C2])\n",
    "        P0 = clf.predict_proba(X0_input)[:, 1]\n",
    "        P1 = clf.predict_proba(X1_input)[:, 1]\n",
    "        ANS_lb=np.maximum(0,P0-P1)\n",
    "        PNS_lower_bound_B=ANS_lb.mean()\n",
    "        PNS_lower_bound.append(PNS_lower_bound_B)\n",
    "        PN_lower_bound.append((ANS_lb/(1-P1)).mean())\n",
    "        PS_lower_bound.append((ANS_lb/P0).mean())\n",
    "        ANS_ub=np.minimum(P0,1-P1)\n",
    "        PNS_upper_bound.append(ANS_ub.mean())\n",
    "        PN_upper_bound.append((ANS_ub/(1-P1)).mean())\n",
    "        PS_upper_bound.append((ANS_ub/P0).mean())\n",
    "    PNS_lower_bound=np.array(PNS_lower_bound)\n",
    "    PNS_upper_bound=np.array(PNS_upper_bound)\n",
    "    PN_lower_bound=np.array(PN_lower_bound)\n",
    "    PN_upper_bound=np.array(PN_upper_bound)\n",
    "    PS_lower_bound=np.array(PS_lower_bound)\n",
    "    PS_upper_bound=np.array(PS_upper_bound)\n",
    "    PNS_lower_bound_CI_lb=np.percentile(PNS_lower_bound,alpha)\n",
    "    PNS_lower_bound_mean=np.mean(PNS_lower_bound)\n",
    "    PNS_lower_bound_CI_ub=np.percentile(PNS_lower_bound,100-alpha)\n",
    "    PNS_upper_bound_CI_lb=np.percentile(PNS_upper_bound,alpha)\n",
    "    PNS_upper_bound_mean=np.mean(PNS_upper_bound)\n",
    "    PNS_upper_bound_CI_ub=np.percentile(PNS_upper_bound,100-alpha)\n",
    "    PN_lower_bound_CI_lb=np.percentile(PN_lower_bound,alpha)\n",
    "    PN_lower_bound_mean=np.mean(PN_lower_bound)\n",
    "    PN_lower_bound_CI_ub=np.percentile(PN_lower_bound,100-alpha)\n",
    "    PN_upper_bound_CI_lb=np.percentile(PN_upper_bound,alpha)\n",
    "    PN_upper_bound_mean=np.mean(PN_upper_bound)\n",
    "    PN_upper_bound_CI_ub=np.percentile(PN_upper_bound,100-alpha)\n",
    "    PS_lower_bound_CI_lb=np.percentile(PS_lower_bound,alpha)\n",
    "    PS_lower_bound_mean=np.mean(PS_lower_bound)\n",
    "    PS_lower_bound_CI_ub=np.percentile(PS_lower_bound,100-alpha)\n",
    "    PS_upper_bound_CI_lb=np.percentile(PS_upper_bound,alpha)\n",
    "    PS_upper_bound_mean=np.mean(PS_upper_bound)\n",
    "    PS_upper_bound_CI_ub=np.percentile(PS_upper_bound,100-alpha)\n",
    "    return np.array([PNS_lower_bound_CI_lb,PNS_lower_bound_mean,PNS_lower_bound_CI_ub,PNS_upper_bound_CI_lb,PNS_upper_bound_mean,PNS_upper_bound_CI_ub,PN_lower_bound_CI_lb,PN_lower_bound_mean,PN_lower_bound_CI_ub,PN_upper_bound_CI_lb,PN_upper_bound_mean,PN_upper_bound_CI_ub,PS_lower_bound_CI_lb,PS_lower_bound_mean,PS_lower_bound_CI_ub,PS_upper_bound_CI_lb,PS_upper_bound_mean,PS_upper_bound_CI_ub])\n",
    "        \n",
    "\n"
   ]
  },
  {
   "cell_type": "code",
   "execution_count": 5,
   "metadata": {},
   "outputs": [],
   "source": [
    "tem=Frechet_Bound_PNS_PN_PS(A,1000,2.5,0,60,80)"
   ]
  },
  {
   "cell_type": "code",
   "execution_count": 11,
   "metadata": {},
   "outputs": [
    {
     "name": "stdout",
     "output_type": "stream",
     "text": [
      "PNS_LB_CI 0.033076053039491314 0.10838249095288816 0.19020590111561891\n"
     ]
    }
   ],
   "source": [
    "print('PNS_LB_CI',tem[0],tem[1],tem[2])"
   ]
  },
  {
   "cell_type": "code",
   "execution_count": 12,
   "metadata": {},
   "outputs": [
    {
     "name": "stdout",
     "output_type": "stream",
     "text": [
      "PNS_UB_CI 0.3337449821016895 0.4226473064537623 0.508197380764199\n"
     ]
    }
   ],
   "source": [
    "print('PNS_UB_CI',tem[3],tem[4],tem[5])"
   ]
  },
  {
   "cell_type": "code",
   "execution_count": 13,
   "metadata": {},
   "outputs": [
    {
     "name": "stdout",
     "output_type": "stream",
     "text": [
      "PN_LB_CI 0.05275909488705003 0.1735532272622753 0.3023077163170176\n"
     ]
    }
   ],
   "source": [
    "print('PN_LB_CI',tem[6],tem[7],tem[8])"
   ]
  },
  {
   "cell_type": "code",
   "execution_count": 14,
   "metadata": {},
   "outputs": [
    {
     "name": "stdout",
     "output_type": "stream",
     "text": [
      "PN_UB_CI 0.48044338286446364 0.6911340393951603 0.8662789815563303\n"
     ]
    }
   ],
   "source": [
    "print('PN_UB_CI',tem[9],tem[10],tem[11])"
   ]
  },
  {
   "cell_type": "code",
   "execution_count": 15,
   "metadata": {},
   "outputs": [
    {
     "name": "stdout",
     "output_type": "stream",
     "text": [
      "PS_LB_CI 0.08022480834853504 0.24904647474619043 0.42385148456164895\n"
     ]
    }
   ],
   "source": [
    "print('PS_LB_CI',tem[12],tem[13],tem[14])"
   ]
  },
  {
   "cell_type": "code",
   "execution_count": 16,
   "metadata": {},
   "outputs": [
    {
     "name": "stdout",
     "output_type": "stream",
     "text": [
      "PS_UB_CI 0.8327870249600751 0.9533588990148851 1.0\n"
     ]
    }
   ],
   "source": [
    "print('PS_UB_CI',tem[15],tem[16],tem[17])"
   ]
  },
  {
   "cell_type": "code",
   "execution_count": null,
   "metadata": {},
   "outputs": [],
   "source": []
  },
  {
   "cell_type": "code",
   "execution_count": null,
   "metadata": {},
   "outputs": [],
   "source": []
  }
 ],
 "metadata": {
  "kernelspec": {
   "display_name": "Python 3",
   "language": "python",
   "name": "python3"
  },
  "language_info": {
   "codemirror_mode": {
    "name": "ipython",
    "version": 3
   },
   "file_extension": ".py",
   "mimetype": "text/x-python",
   "name": "python",
   "nbconvert_exporter": "python",
   "pygments_lexer": "ipython3",
   "version": "3.10.12"
  },
  "orig_nbformat": 4
 },
 "nbformat": 4,
 "nbformat_minor": 2
}
